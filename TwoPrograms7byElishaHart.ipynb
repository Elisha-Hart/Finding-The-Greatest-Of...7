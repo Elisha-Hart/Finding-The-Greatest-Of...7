{
 "cells": [
  {
   "cell_type": "code",
   "execution_count": 2,
   "id": "ad7a9917-2ec5-4b2f-843b-9a81c1d21a84",
   "metadata": {},
   "outputs": [
    {
     "name": "stdout",
     "output_type": "stream",
     "text": [
      "The largest number is 57\n"
     ]
    }
   ],
   "source": [
    "### Python program to find the largest number among the three input numbers\n",
    "### Change the values of num1, num2, and num3\n",
    "\n",
    "num1 = 39\n",
    "num2 = 17\n",
    "num3 = 57\n",
    "\n",
    "if (num1 >= num2) and (num1 >= num3):\n",
    "    largest = num1\n",
    "elif (num2 >= num1) and (num2 >= num3):\n",
    "    largest = num2\n",
    "else:\n",
    "    largest = num3\n",
    "print(\"The largest number is\", largest)"
   ]
  },
  {
   "cell_type": "code",
   "execution_count": 12,
   "id": "f1a3b0e2-b608-4f68-9b6f-3a9cdf4e1fd2",
   "metadata": {},
   "outputs": [
    {
     "name": "stdin",
     "output_type": "stream",
     "text": [
      " 7\n"
     ]
    },
    {
     "name": "stdout",
     "output_type": "stream",
     "text": [
      "The entered digit is :  7\n",
      "Digit converted to number word is :   seven \n"
     ]
    }
   ],
   "source": [
    "arr = ['zero', 'one', 'two', 'three', 'four', 'five', 'six', 'seven', 'eight', 'nine']\n",
    "\n",
    "def NumberWord(num):\n",
    "    if(num==0):\n",
    "        return \" \"\n",
    "    \n",
    "    else:\n",
    "        minAns = arr[num%10]\n",
    "        \n",
    "        ans = NumberWord(int(num/10)) + minAns + \" \"\n",
    "        \n",
    "    return ans\n",
    "\n",
    "num = int(input())\n",
    "print(\"The entered digit is : \", num)\n",
    "print(\"Digit converted to number word is : \", end = \" \")\n",
    "print(NumberWord(num))"
   ]
  },
  {
   "cell_type": "code",
   "execution_count": null,
   "id": "f42e7971-1595-4494-a4ad-b9e4f296c709",
   "metadata": {},
   "outputs": [],
   "source": []
  }
 ],
 "metadata": {
  "kernelspec": {
   "display_name": "anaconda-2022.05-py39",
   "language": "python",
   "name": "conda-env-anaconda-2022.05-py39-py"
  },
  "language_info": {
   "codemirror_mode": {
    "name": "ipython",
    "version": 3
   },
   "file_extension": ".py",
   "mimetype": "text/x-python",
   "name": "python",
   "nbconvert_exporter": "python",
   "pygments_lexer": "ipython3",
   "version": "3.9.12"
  }
 },
 "nbformat": 4,
 "nbformat_minor": 5
}
